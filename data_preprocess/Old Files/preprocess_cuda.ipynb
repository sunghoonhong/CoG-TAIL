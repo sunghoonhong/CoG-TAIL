{
 "cells": [
  {
   "cell_type": "code",
   "execution_count": null,
   "metadata": {
    "colab": {
     "base_uri": "https://localhost:8080/",
     "height": 411
    },
    "colab_type": "code",
    "id": "TKueAa4BH7v9",
    "outputId": "af682521-58ef-4d6d-c375-e4388bd3c7cc"
   },
   "outputs": [],
   "source": [
    "from google.colab import auth\n",
    "auth.authenticate_user()\n",
    "\n",
    "from google.colab import drive\n",
    "drive.mount('/content/gdrive')\n",
    "\n",
    "!pip install pytorch_transformers"
   ]
  },
  {
   "cell_type": "code",
   "execution_count": null,
   "metadata": {
    "colab": {},
    "colab_type": "code",
    "id": "kshiARpoHFZm"
   },
   "outputs": [],
   "source": [
    "import pandas as pd\n",
    "import numpy as np\n",
    "import unicodedata\n",
    "import torch\n",
    "from bs4 import BeautifulSoup\n",
    "from pytorch_transformers import BertTokenizer, BertModel\n",
    "\n",
    "import pickle\n",
    "import gzip\n",
    "\n",
    "with gzip.open('/content/gdrive/My Drive/pre_reviews.pickle', 'rb') as f:\n",
    "    pre_reviews = pickle.load(f)\n",
    "    \n",
    "with gzip.open('/content/gdrive/My Drive/Top5000_BtoA.pickle','rb') as f:\n",
    "    Top5000_BtoA = pickle.load(f)"
   ]
  },
  {
   "cell_type": "code",
   "execution_count": null,
   "metadata": {
    "colab": {
     "base_uri": "https://localhost:8080/",
     "height": 1000
    },
    "colab_type": "code",
    "id": "p9ktsdTnHFaD",
    "outputId": "d191215b-12c6-4a64-c38b-64cb86a71068"
   },
   "outputs": [],
   "source": [
    "tokenizer = BertTokenizer.from_pretrained('bert-base-uncased')\n",
    "model = BertModel.from_pretrained('bert-base-uncased')\n",
    "model = model.to('cuda')\n",
    "model.eval()"
   ]
  },
  {
   "cell_type": "code",
   "execution_count": null,
   "metadata": {
    "colab": {},
    "colab_type": "code",
    "id": "p9CT95zUHFaI"
   },
   "outputs": [],
   "source": [
    "def preprocess(review: str, total: int, show_progress: bool = True) -> list:\n",
    "    if show_progress:\n",
    "        global counter\n",
    "        counter += 1\n",
    "        if counter % 10000 == 0:\n",
    "          print('Processing... %6i/%6i'% (counter, total))\n",
    "        \n",
    "    # BERT\n",
    "    token_ids = tokenizer.encode(review, add_special_tokens=True)\n",
    "    \n",
    "    L = len(token_ids)\n",
    "\n",
    "    # 길이가 길면 그 문장을 넘어감.\n",
    "    if L >= 50:\n",
    "        return None\n",
    "    \n",
    "    # TOP5000에 없는 단어가 있는 문장이면 넘어감.\n",
    "    for word in token_ids:\n",
    "        try:\n",
    "            Top5000_BtoA[word]\n",
    "        except:\n",
    "            return None\n",
    "    \n",
    "    prev_action_ids = torch.tensor([Top5000_BtoA[x] for x in token_ids[1:-1]]).view(L - 2, 1)\n",
    "    action_ids = torch.tensor([Top5000_BtoA[x] for x in token_ids[2:]]).view(L - 2, 1)\n",
    "    token_ids = torch.tensor(token_ids)\n",
    "\n",
    "    toks = torch.zeros((L - 2, L))\n",
    "    mask = torch.zeros((L - 2, L))\n",
    "    actions = token_ids[2:L].view(L - 2, 1)\n",
    "    #action_ids = token_ids[0, 1:L].view(L - 1, 1)\n",
    "        \n",
    "    for i in range(L - 2):\n",
    "        temp_ids = torch.cat([token_ids[:i+2],token_ids[-1:]], dim = 0)\n",
    "           \n",
    "        #temp_ids = temp_ids.view(1, len(temp_ids))\n",
    "        #segments_ids = torch.tensor([1] * len(temp_ids))\n",
    "        toks[i, :i+3] = temp_ids\n",
    "        mask[i, :i+3] = 1.\n",
    "        \n",
    "    with torch.no_grad():\n",
    "        hidden = model(toks.long().to('cuda'),mask.long().to('cuda'))[0] # 마지막 단어\n",
    "        action = model.embeddings(actions.to('cuda'))[:, 0]\n",
    "        \n",
    "    hidden = torch.mean(hidden, 1)\n",
    "    return hidden, action, action_ids, prev_action_ids"
   ]
  },
  {
   "cell_type": "code",
   "execution_count": null,
   "metadata": {
    "colab": {},
    "colab_type": "code",
    "id": "hi6LajxnHFaK"
   },
   "outputs": [],
   "source": [
    "counter = 0\n",
    "\n",
    "states = []\n",
    "actions = []\n",
    "codes = []\n",
    "action_ids = []\n",
    "prev_action_ids = []\n",
    "\n",
    "cur_size = 0\n",
    "batch_size = 512\n",
    "num = 1\n",
    "\n",
    "length = len(pre_reviews)\n",
    "\n",
    "for review in pre_reviews:\n",
    "    parts = preprocess(review[0], length)\n",
    "      \n",
    "    if parts == None:\n",
    "        continue\n",
    "    \n",
    "    states.append(parts[0])\n",
    "    actions.append(parts[1])\n",
    "    action_ids.append(parts[2])\n",
    "    prev_action_ids.append(parts[3])\n",
    "    codes.append(torch.full((len(parts[0]), 1), review[1]).long())\n",
    "    \n",
    "    cur_size += len(parts[0])\n",
    "        \n",
    "    if cur_size >= batch_size:\n",
    "        np.savez_compressed('/content/gdrive/My Drive/batch_2/IMDB_Dataset'+str(num),\n",
    "                            states = torch.cat(states, dim=0).to('cpu'),\n",
    "                            actions = torch.cat(actions, dim=0).to('cpu'),\n",
    "                            codes = torch.cat(codes, dim=0).to('cpu'),\n",
    "                           action_ids = torch.cat(action_ids, dim=0).to('cpu'),\n",
    "                           prev_action_ids = torch.cat(prev_action_ids, dim=0).to('cpu'))\n",
    "        states = []\n",
    "        actions = []\n",
    "        codes = []\n",
    "        action_ids = []\n",
    "        prev_action_ids = []\n",
    "        \n",
    "        cur_size = 0\n",
    "        num += 1"
   ]
  },
  {
   "cell_type": "code",
   "execution_count": null,
   "metadata": {
    "colab": {},
    "colab_type": "code",
    "id": "wxp_CTVDHFaN"
   },
   "outputs": [],
   "source": [
    "actions.shape"
   ]
  },
  {
   "cell_type": "code",
   "execution_count": null,
   "metadata": {
    "colab": {},
    "colab_type": "code",
    "id": "Of-R4jr0HFaQ"
   },
   "outputs": [],
   "source": [
    "states.shape"
   ]
  },
  {
   "cell_type": "code",
   "execution_count": null,
   "metadata": {
    "colab": {},
    "colab_type": "code",
    "id": "m2IA1oB2HFaT"
   },
   "outputs": [],
   "source": [
    "codes.shape"
   ]
  },
  {
   "cell_type": "code",
   "execution_count": null,
   "metadata": {
    "colab": {},
    "colab_type": "code",
    "id": "pN1G3QuuHFaV"
   },
   "outputs": [],
   "source": [
    "np.savez('IMDB_Dataset.npz', states = states, actions = actions, codes = codes)"
   ]
  }
 ],
 "metadata": {
  "file_extension": ".py",
  "kernelspec": {
   "display_name": "Python 3",
   "language": "python",
   "name": "python3"
  },
  "language_info": {
   "codemirror_mode": {
    "name": "ipython",
    "version": 3
   },
   "file_extension": ".py",
   "mimetype": "text/x-python",
   "name": "python",
   "nbconvert_exporter": "python",
   "pygments_lexer": "ipython3",
   "version": "3.7.4"
  },
  "mimetype": "text/x-python",
  "name": "python",
  "npconvert_exporter": "python",
  "pygments_lexer": "ipython3",
  "version": 3
 },
 "nbformat": 4,
 "nbformat_minor": 2
}

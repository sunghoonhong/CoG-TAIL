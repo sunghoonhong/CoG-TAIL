{
 "cells": [
  {
   "cell_type": "code",
   "execution_count": 3,
   "metadata": {},
   "outputs": [],
   "source": [
    "import pandas as pd\n",
    "import nltk\n",
    "import unicodedata\n",
    "import string\n",
    "from nltk.tokenize import sent_tokenize\n",
    "from nltk.stem import WordNetLemmatizer\n",
    "import string\n",
    "nltk.download('wordnet')\n",
    "nltk.download('punkt')\n",
    "from bs4 import BeautifulSoup\n",
    "\n",
    "df = pd.read_json('Electronics_5.json', lines=True)"
   ]
  },
  {
   "cell_type": "code",
   "execution_count": 52,
   "metadata": {},
   "outputs": [
    {
     "data": {
      "text/html": [
       "<div>\n",
       "<style scoped>\n",
       "    .dataframe tbody tr th:only-of-type {\n",
       "        vertical-align: middle;\n",
       "    }\n",
       "\n",
       "    .dataframe tbody tr th {\n",
       "        vertical-align: top;\n",
       "    }\n",
       "\n",
       "    .dataframe thead th {\n",
       "        text-align: right;\n",
       "    }\n",
       "</style>\n",
       "<table border=\"1\" class=\"dataframe\">\n",
       "  <thead>\n",
       "    <tr style=\"text-align: right;\">\n",
       "      <th></th>\n",
       "      <th>asin</th>\n",
       "      <th>helpful</th>\n",
       "      <th>overall</th>\n",
       "      <th>reviewText</th>\n",
       "      <th>reviewTime</th>\n",
       "      <th>reviewerID</th>\n",
       "      <th>reviewerName</th>\n",
       "      <th>summary</th>\n",
       "      <th>unixReviewTime</th>\n",
       "    </tr>\n",
       "  </thead>\n",
       "  <tbody>\n",
       "    <tr>\n",
       "      <th>0</th>\n",
       "      <td>0528881469</td>\n",
       "      <td>[0, 0]</td>\n",
       "      <td>5</td>\n",
       "      <td>We got this GPS for my husband who is an (OTR)...</td>\n",
       "      <td>06 2, 2013</td>\n",
       "      <td>AO94DHGC771SJ</td>\n",
       "      <td>amazdnu</td>\n",
       "      <td>Gotta have GPS!</td>\n",
       "      <td>1370131200</td>\n",
       "    </tr>\n",
       "    <tr>\n",
       "      <th>1</th>\n",
       "      <td>0528881469</td>\n",
       "      <td>[12, 15]</td>\n",
       "      <td>1</td>\n",
       "      <td>I'm a professional OTR truck driver, and I bou...</td>\n",
       "      <td>11 25, 2010</td>\n",
       "      <td>AMO214LNFCEI4</td>\n",
       "      <td>Amazon Customer</td>\n",
       "      <td>Very Disappointed</td>\n",
       "      <td>1290643200</td>\n",
       "    </tr>\n",
       "    <tr>\n",
       "      <th>2</th>\n",
       "      <td>0528881469</td>\n",
       "      <td>[43, 45]</td>\n",
       "      <td>3</td>\n",
       "      <td>Well, what can I say.  I've had this unit in m...</td>\n",
       "      <td>09 9, 2010</td>\n",
       "      <td>A3N7T0DY83Y4IG</td>\n",
       "      <td>C. A. Freeman</td>\n",
       "      <td>1st impression</td>\n",
       "      <td>1283990400</td>\n",
       "    </tr>\n",
       "    <tr>\n",
       "      <th>3</th>\n",
       "      <td>0528881469</td>\n",
       "      <td>[9, 10]</td>\n",
       "      <td>2</td>\n",
       "      <td>Not going to write a long review, even thought...</td>\n",
       "      <td>11 24, 2010</td>\n",
       "      <td>A1H8PY3QHMQQA0</td>\n",
       "      <td>Dave M. Shaw \"mack dave\"</td>\n",
       "      <td>Great grafics, POOR GPS</td>\n",
       "      <td>1290556800</td>\n",
       "    </tr>\n",
       "    <tr>\n",
       "      <th>4</th>\n",
       "      <td>0528881469</td>\n",
       "      <td>[0, 0]</td>\n",
       "      <td>1</td>\n",
       "      <td>I've had mine for a year and here's what we go...</td>\n",
       "      <td>09 29, 2011</td>\n",
       "      <td>A24EV6RXELQZ63</td>\n",
       "      <td>Wayne Smith</td>\n",
       "      <td>Major issues, only excuses for support</td>\n",
       "      <td>1317254400</td>\n",
       "    </tr>\n",
       "  </tbody>\n",
       "</table>\n",
       "</div>"
      ],
      "text/plain": [
       "         asin   helpful  overall  \\\n",
       "0  0528881469    [0, 0]        5   \n",
       "1  0528881469  [12, 15]        1   \n",
       "2  0528881469  [43, 45]        3   \n",
       "3  0528881469   [9, 10]        2   \n",
       "4  0528881469    [0, 0]        1   \n",
       "\n",
       "                                          reviewText   reviewTime  \\\n",
       "0  We got this GPS for my husband who is an (OTR)...   06 2, 2013   \n",
       "1  I'm a professional OTR truck driver, and I bou...  11 25, 2010   \n",
       "2  Well, what can I say.  I've had this unit in m...   09 9, 2010   \n",
       "3  Not going to write a long review, even thought...  11 24, 2010   \n",
       "4  I've had mine for a year and here's what we go...  09 29, 2011   \n",
       "\n",
       "       reviewerID              reviewerName  \\\n",
       "0   AO94DHGC771SJ                   amazdnu   \n",
       "1   AMO214LNFCEI4           Amazon Customer   \n",
       "2  A3N7T0DY83Y4IG             C. A. Freeman   \n",
       "3  A1H8PY3QHMQQA0  Dave M. Shaw \"mack dave\"   \n",
       "4  A24EV6RXELQZ63               Wayne Smith   \n",
       "\n",
       "                                  summary  unixReviewTime  \n",
       "0                         Gotta have GPS!      1370131200  \n",
       "1                       Very Disappointed      1290643200  \n",
       "2                          1st impression      1283990400  \n",
       "3                 Great grafics, POOR GPS      1290556800  \n",
       "4  Major issues, only excuses for support      1317254400  "
      ]
     },
     "execution_count": 52,
     "metadata": {},
     "output_type": "execute_result"
    }
   ],
   "source": [
    "df.head()"
   ]
  },
  {
   "cell_type": "code",
   "execution_count": 58,
   "metadata": {},
   "outputs": [],
   "source": [
    "df_neg = df[df['overall'] == 1]\n",
    "df_pos = df[df['overall'] == 5]"
   ]
  },
  {
   "cell_type": "code",
   "execution_count": 67,
   "metadata": {},
   "outputs": [
    {
     "name": "stderr",
     "output_type": "stream",
     "text": [
      "/usr/local/lib/python3.7/site-packages/ipykernel_launcher.py:1: SettingWithCopyWarning: \n",
      "A value is trying to be set on a copy of a slice from a DataFrame.\n",
      "Try using .loc[row_indexer,col_indexer] = value instead\n",
      "\n",
      "See the caveats in the documentation: http://pandas.pydata.org/pandas-docs/stable/indexing.html#indexing-view-versus-copy\n",
      "  \"\"\"Entry point for launching an IPython kernel.\n"
     ]
    }
   ],
   "source": [
    "df_pos['reviewText'] = df_pos.reviewText.map(sent_tokenize)\n",
    "#df_neg['reviewText'] = df_neg.reviewText.map(sent_tokenize)"
   ]
  },
  {
   "cell_type": "code",
   "execution_count": 66,
   "metadata": {},
   "outputs": [
    {
     "data": {
      "text/plain": [
       "1          [I'm a professional OTR truck driver, and I bo...\n",
       "4          [I've had mine for a year and here's what we g...\n",
       "71         [Bought NEW but I could tell right away that m...\n",
       "82         [I checked around Amazon as well as some other...\n",
       "167        [I consider myself to be a good DIYer., I've i...\n",
       "232        [If less money had been spent on packaging and...\n",
       "233        [I bought this mount for our bedroom in order ...\n",
       "236        [Mounting a 42 inch LG TV weighing 33 poundsPR...\n",
       "242        [Have no idea why people love this thing so mu...\n",
       "255        [Check your SN with Barnes & Noble's 800 numbe...\n",
       "260        [If all you want is a tablet for reading B&N; ...\n",
       "267        [The customer support people at Barnes & Noble...\n",
       "268        [If you want an e-reader, get an e-reader - th...\n",
       "273        [Update 2-Sep-13:Put on CM 10.2.2 (Android 4.2...\n",
       "295        [Why pay to be restricted, I simply didn't see...\n",
       "320        [Highly disappointed., I purchased the new B/W...\n",
       "324        [I bought this unit as a gift for the grandchi...\n",
       "329        [I bought a nook about 8 months ago., I wanted...\n",
       "333        [Not happy with my Nook., Be forewarned...you ...\n",
       "336        [I've owned this original Nook for two years n...\n",
       "337        [This is the nook i dont like..it doesnot habe...\n",
       "342        [Beware., I bought this used and the person or...\n",
       "354        [in my honest opinion nook is unfinished produ...\n",
       "356        [This is a pretty nice looking toy but useless...\n",
       "361        [Not worth saving a few bucks., Go with an iPad.]\n",
       "369        [I bought this product used from a coworker's ...\n",
       "371        [I've had the Nook e-reader for less than 18 m...\n",
       "376        [I have had the opportunity to test both nook ...\n",
       "399        [Yesterday I spent over an hour playing with a...\n",
       "401        [it constantly acts up., i try to use it for m...\n",
       "                                 ...                        \n",
       "1688549    [it sucks had it for 2 days and it wouldnt sta...\n",
       "1688556    [I have a router that fails more often than I ...\n",
       "1688565    [The unboxing experience and fit-and-finish of...\n",
       "1688570    [I was one of the very first buyers of the old...\n",
       "1688586    [I am sure this would be a great device., Howe...\n",
       "1688592    [Update 6-22-2014My kids 2006 17\" iMac OS X 10...\n",
       "1688600    [This thing is a piece of garbage!, I bought i...\n",
       "1688604    [Based on the stellar reviews of the WRT1900AC...\n",
       "1688662    [It seems that anything from this company ASUS...\n",
       "1688694    [The fact that it states something in specs wh...\n",
       "1688727    [I have M4's and M500's and never had an issue...\n",
       "1688761    [I have quite a few Foscam IP cameras in servi...\n",
       "1688762    [The device did not record any video with moti...\n",
       "1688793    [I had the Tab Pro 8.4, but Itched to get the ...\n",
       "1688804    [If you're thinking about picking one of these...\n",
       "1688826    [I question every review over 3 Stars on the G...\n",
       "1688843    [I could buy the best top of the line laptop f...\n",
       "1688870    [Went on a Road Trip back east.Drove back used...\n",
       "1688874    [The first unit had a defective battery and wo...\n",
       "1688881    [This review is after the initial test.By the ...\n",
       "1688883    [Maybe I was unlucky but it doesn't transmit i...\n",
       "1688887    [Received this monitor early Wednesday., I spe...\n",
       "1688913    [These pieces of F'ing S are all over eBay., S...\n",
       "1688914    [This is an 8Gb card that has been repackaged....\n",
       "1688917    [This micro sd wont hold files properly., Afte...\n",
       "1688950    [After 2 weeks of use this laptop turned out t...\n",
       "1689072    [I want to like it but I don't., Coming from R...\n",
       "1689074    [I should not have assumed my experience would...\n",
       "1689075    [Very disappointed with the Nighthawk X6 so fa...\n",
       "1689078    [I know how to set up a network., Done it more...\n",
       "Name: reviewText, Length: 108725, dtype: object"
      ]
     },
     "execution_count": 66,
     "metadata": {},
     "output_type": "execute_result"
    }
   ],
   "source": []
  },
  {
   "cell_type": "code",
   "execution_count": 74,
   "metadata": {},
   "outputs": [],
   "source": [
    "pos = df_pos['reviewText'].values\n",
    "neg = df_neg['reviewText'].values"
   ]
  },
  {
   "cell_type": "code",
   "execution_count": 79,
   "metadata": {},
   "outputs": [
    {
     "data": {
      "text/plain": [
       "(['We got this GPS for my husband who is an (OTR) over the road trucker.',\n",
       "  'Very Impressed with the shipping time, it arrived a few days earlier than expected...  within a week of use however it started freezing up... could of just been a glitch in that unit.',\n",
       "  'Worked great when it worked!',\n",
       "  'Will work great for the normal person as well but does have the \"trucker\" option.',\n",
       "  '(the big truck routes - tells you when a scale is coming up ect...)  Love the bigger screen, the ease of use, the ease of putting addresses into memory.',\n",
       "  \"Nothing really bad to say about the unit with the exception of it freezing which is probably one in a million and that's just my luck.\",\n",
       "  'I contacted the seller and within minutes of my email I received a email back with instructions for an exchange!',\n",
       "  'VERY impressed all the way around!'],\n",
       " 1)"
      ]
     },
     "execution_count": 79,
     "metadata": {},
     "output_type": "execute_result"
    }
   ],
   "source": [
    "raw_reviews = []\n",
    "for i in range(min(len(neg), len(pos))):\n",
    "    raw_reviews.append((pos[i], 1))\n",
    "    raw_reviews.append((neg[i], 1))"
   ]
  },
  {
   "cell_type": "code",
   "execution_count": 70,
   "metadata": {},
   "outputs": [],
   "source": [
    "# 클렌징\n",
    "# stop = stopwords.words('english')\n",
    "lmtzr = WordNetLemmatizer()\n",
    "\n",
    "\n",
    "def unicodeToAscii(s):\n",
    "    return ''.join(\n",
    "        c for c in unicodedata.normalize('NFD', s)\n",
    "        if unicodedata.category(c) != 'Mn'\n",
    "    )\n",
    "\n",
    "def clean_review(text: str) -> str:\n",
    "    # 1. unicode to ASCII\n",
    "    text = unicodeToAscii(text)\n",
    "            \n",
    "    # 2. Remove HTML\n",
    "    text = BeautifulSoup(text, \"lxml\").get_text()\n",
    "    \n",
    "    # 3. Remove Punctuations\n",
    "    text = \"\".join(v for v in text if v not in string.punctuation).lower()    \n",
    "\n",
    "    return text"
   ]
  },
  {
   "cell_type": "code",
   "execution_count": 81,
   "metadata": {},
   "outputs": [
    {
     "name": "stdout",
     "output_type": "stream",
     "text": [
      "0\n",
      "10000\n",
      "20000\n"
     ]
    },
    {
     "name": "stderr",
     "output_type": "stream",
     "text": [
      "/usr/local/lib/python3.7/site-packages/bs4/__init__.py:357: UserWarning: \"https://www.flickr.com/photos/rafquil/13345586614/\" looks like a URL. Beautiful Soup is not an HTTP client. You should probably use an HTTP client like requests to get the document behind the URL, and feed that document to Beautiful Soup.\n",
      "  ' that document to Beautiful Soup.' % decoded_markup\n"
     ]
    },
    {
     "name": "stdout",
     "output_type": "stream",
     "text": [
      "30000\n",
      "40000\n",
      "50000\n"
     ]
    },
    {
     "name": "stderr",
     "output_type": "stream",
     "text": [
      "/usr/local/lib/python3.7/site-packages/bs4/__init__.py:294: UserWarning: \"b'////'\" looks like a filename, not markup. You should probably open this file and pass the filehandle into Beautiful Soup.\n",
      "  ' Beautiful Soup.' % markup)\n"
     ]
    }
   ],
   "source": [
    "reviews = []\n",
    "count = 0\n",
    "  \n",
    "for review in raw_reviews[:len(raw_reviews)//4]:\n",
    "    text = review[0]\n",
    "    code = review[1]\n",
    "    for s in text:\n",
    "        new_s = clean_review(s)\n",
    "        if(len(new_s) > 10 and new_s[0].isalpha()):\n",
    "            reviews.append((new_s, code))\n",
    "    if(not count % 10000):\n",
    "        print(count)\n",
    "    count += 1"
   ]
  },
  {
   "cell_type": "code",
   "execution_count": 84,
   "metadata": {},
   "outputs": [
    {
     "data": {
      "text/plain": [
       "310219"
      ]
     },
     "execution_count": 84,
     "metadata": {},
     "output_type": "execute_result"
    }
   ],
   "source": [
    "len(reviews)"
   ]
  },
  {
   "cell_type": "code",
   "execution_count": 85,
   "metadata": {},
   "outputs": [],
   "source": [
    "import pickle\n",
    "import gzip\n",
    "\n",
    "with gzip.open('pre_reviews_2.pickle', 'wb') as f:\n",
    "    pickle.dump(reviews, f)"
   ]
  },
  {
   "cell_type": "code",
   "execution_count": null,
   "metadata": {},
   "outputs": [],
   "source": []
  }
 ],
 "metadata": {
  "kernelspec": {
   "display_name": "Python 3",
   "language": "python",
   "name": "python3"
  },
  "language_info": {
   "codemirror_mode": {
    "name": "ipython",
    "version": 3
   },
   "file_extension": ".py",
   "mimetype": "text/x-python",
   "name": "python",
   "nbconvert_exporter": "python",
   "pygments_lexer": "ipython3",
   "version": "3.7.4"
  }
 },
 "nbformat": 4,
 "nbformat_minor": 2
}

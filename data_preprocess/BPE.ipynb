{
 "cells": [
  {
   "cell_type": "code",
   "execution_count": 66,
   "metadata": {},
   "outputs": [],
   "source": [
    "import sentencepiece as spm"
   ]
  },
  {
   "cell_type": "code",
   "execution_count": 67,
   "metadata": {},
   "outputs": [],
   "source": [
    "import pickle\n",
    "import gzip\n",
    "\n",
    "with gzip.open('pre_reviews_2.pickle', 'rb') as f:\n",
    "    pre_reviews = pickle.load(f)"
   ]
  },
  {
   "cell_type": "code",
   "execution_count": 97,
   "metadata": {},
   "outputs": [],
   "source": [
    "corpus = [x for x in pre_reviews if (len(x[0].split()) < 16 and len(x[0]) < 160)]"
   ]
  },
  {
   "cell_type": "code",
   "execution_count": 109,
   "metadata": {},
   "outputs": [
    {
     "data": {
      "text/plain": [
       "('garbagemycopbasuraorduresmülltruflaisrifiutitakatakasoporroskatvullismbeturinazaborescombrariessmećeodpadkyskraldafvalruboprügilixofatraszemét',\n",
       " 0)"
      ]
     },
     "execution_count": 109,
     "metadata": {},
     "output_type": "execute_result"
    }
   ],
   "source": [
    "corpus[167838]"
   ]
  },
  {
   "cell_type": "code",
   "execution_count": 99,
   "metadata": {},
   "outputs": [],
   "source": [
    "input_file = 'spm_input.txt'\n",
    "\n",
    "with open(input_file, 'w', encoding='utf-8') as f:\n",
    "    for sent in corpus:\n",
    "        f.write('{}\\n'.format(sent[0]))"
   ]
  },
  {
   "cell_type": "code",
   "execution_count": 100,
   "metadata": {},
   "outputs": [],
   "source": [
    "input_file = 'spm_input.txt'\n",
    "templates = '--input={} --model_prefix={} --vocab_size={} --pad_id=0 --bos_id=1 --eos_id=2 --unk_id=3'\n",
    "\n",
    "vocab_size = 5000\n",
    "prefix = 'reviews'\n",
    "cmd = templates.format(input_file, prefix, vocab_size)"
   ]
  },
  {
   "cell_type": "code",
   "execution_count": 101,
   "metadata": {},
   "outputs": [
    {
     "data": {
      "text/plain": [
       "True"
      ]
     },
     "execution_count": 101,
     "metadata": {},
     "output_type": "execute_result"
    }
   ],
   "source": [
    "spm.SentencePieceTrainer.Train(cmd)"
   ]
  },
  {
   "cell_type": "code",
   "execution_count": 102,
   "metadata": {},
   "outputs": [
    {
     "data": {
      "text/plain": [
       "True"
      ]
     },
     "execution_count": 102,
     "metadata": {},
     "output_type": "execute_result"
    }
   ],
   "source": [
    "sp = spm.SentencePieceProcessor()\n",
    "sp.Load('{}.model'.format(prefix))"
   ]
  },
  {
   "cell_type": "code",
   "execution_count": 103,
   "metadata": {},
   "outputs": [
    {
     "name": "stdout",
     "output_type": "stream",
     "text": [
      "num of vocabs = 5000\n"
     ]
    }
   ],
   "source": [
    "with open('{}.vocab'.format(prefix), encoding='utf-8') as f:\n",
    "    vocabs = [doc.strip() for doc in f]\n",
    "\n",
    "print('num of vocabs = {}'.format(len(vocabs)))"
   ]
  },
  {
   "cell_type": "code",
   "execution_count": 104,
   "metadata": {},
   "outputs": [
    {
     "data": {
      "text/plain": [
       "['<s>',\n",
       " '▁we',\n",
       " '▁got',\n",
       " '▁this',\n",
       " '▁gps',\n",
       " '▁for',\n",
       " '▁my',\n",
       " '▁husband',\n",
       " '▁who',\n",
       " '▁is',\n",
       " '▁an',\n",
       " '▁o',\n",
       " 'tr',\n",
       " '▁over',\n",
       " '▁the',\n",
       " '▁road',\n",
       " '▁truck',\n",
       " 'er',\n",
       " '</s>']"
      ]
     },
     "execution_count": 104,
     "metadata": {},
     "output_type": "execute_result"
    }
   ],
   "source": [
    "sent = corpus[0][0]\n",
    "extra_options = 'bos:eos' #'reverse:bos:eos'\n",
    "sp.SetEncodeExtraOptions(extra_options)\n",
    "sp.EncodeAsPieces(sent)"
   ]
  },
  {
   "cell_type": "code",
   "execution_count": 105,
   "metadata": {},
   "outputs": [
    {
     "name": "stdout",
     "output_type": "stream",
     "text": [
      "i love you\n",
      "['<s>', '▁i', '▁love', '▁you', '</s>']\n",
      "[1, 5, 174, 21, 34, 98, 2]\n",
      "[1, 5, 1002, 21, 2]\n",
      "<pad>\t0\n"
     ]
    }
   ],
   "source": [
    "print(\"i love you\")\n",
    "print(sp.EncodeAsPieces(\"i love you\"))\n",
    "print(sp.EncodeAsIds(\"i love you so much\"))\n",
    "print(sp.EncodeAsIds(\"i hate you\"))\n",
    "print(vocabs[0])"
   ]
  },
  {
   "cell_type": "code",
   "execution_count": 106,
   "metadata": {},
   "outputs": [],
   "source": [
    "encoded_reviews = [[sp.EncodeAsIds(sent[0]), sent[1]] for sent in corpus]"
   ]
  },
  {
   "cell_type": "code",
   "execution_count": 107,
   "metadata": {},
   "outputs": [
    {
     "name": "stdout",
     "output_type": "stream",
     "text": [
      "[[1, 95, 28, 76, 6, 95, 2], 1]\n"
     ]
    }
   ],
   "source": [
    "print(encoded_reviews[1])"
   ]
  },
  {
   "cell_type": "code",
   "execution_count": 108,
   "metadata": {},
   "outputs": [],
   "source": [
    "# save and compress.\n",
    "with gzip.open('encoded_reviews.pickle', 'wb') as f:\n",
    "    pickle.dump(encoded_reviews, f)"
   ]
  },
  {
   "cell_type": "markdown",
   "metadata": {},
   "source": [
    "임시"
   ]
  },
  {
   "cell_type": "code",
   "execution_count": 86,
   "metadata": {},
   "outputs": [
    {
     "data": {
      "text/plain": [
       "[1, 103, 34, 61, 7, 103, 2]"
      ]
     },
     "execution_count": 86,
     "metadata": {},
     "output_type": "execute_result"
    }
   ],
   "source": [
    "encoded_reviews[1][0]"
   ]
  },
  {
   "cell_type": "code",
   "execution_count": 52,
   "metadata": {},
   "outputs": [],
   "source": [
    "output_file = 'real_data.txt'\n",
    "\n",
    "with open(output_file, 'w', encoding='utf-8') as f:\n",
    "    count = 0\n",
    "    for review in encoded_reviews:\n",
    "        sent = review[0]\n",
    "        if(len(sent) != 20):\n",
    "            continue\n",
    "        else:\n",
    "            count += 1\n",
    "            f.write('{}\\n'.format(\" \".join(list(map(str, sent)))))\n",
    "            if(count == 10000):\n",
    "                break"
   ]
  },
  {
   "cell_type": "code",
   "execution_count": 46,
   "metadata": {},
   "outputs": [
    {
     "data": {
      "text/plain": [
       "'it should knows firewire belt select grade thankfully dsl'"
      ]
     },
     "execution_count": 46,
     "metadata": {},
     "output_type": "execute_result"
    }
   ],
   "source": [
    "sp.DecodeIds([6, 163, 2760, 2006, 2359, 1709, 3236,3425, 2181])"
   ]
  },
  {
   "cell_type": "code",
   "execution_count": 59,
   "metadata": {},
   "outputs": [],
   "source": [
    "f = open(\"generator_sample0.09.txt\", 'r')\n",
    "lines = f.readlines()\n",
    "f.close()"
   ]
  },
  {
   "cell_type": "code",
   "execution_count": 60,
   "metadata": {},
   "outputs": [],
   "source": [
    "sample = [list(map(int, line[:-1].split())) for line in lines]"
   ]
  },
  {
   "cell_type": "code",
   "execution_count": 61,
   "metadata": {},
   "outputs": [],
   "source": [
    "file = 'real_sample.txt'\n",
    "\n",
    "with open(file, 'w', encoding='utf-8') as f:\n",
    "    for sent in sample:\n",
    "        f.write('{}\\n'.format(sp.DecodeIds(sent)))"
   ]
  },
  {
   "cell_type": "code",
   "execution_count": 59,
   "metadata": {},
   "outputs": [
    {
     "data": {
      "text/plain": [
       "'i have a ham radio license so i do know a bit about them'"
      ]
     },
     "execution_count": 59,
     "metadata": {},
     "output_type": "execute_result"
    }
   ],
   "source": [
    "sp.DecodeIds(list(map(int, '1 4 22 5 1182 198 252 554 493 1501 128 28 4 68 184 5 351 64 67 2'.split(' ')"
   ]
  },
  {
   "cell_type": "code",
   "execution_count": null,
   "metadata": {},
   "outputs": [],
   "source": []
  }
 ],
 "metadata": {
  "kernelspec": {
   "display_name": "Python 3",
   "language": "python",
   "name": "python3"
  },
  "language_info": {
   "codemirror_mode": {
    "name": "ipython",
    "version": 3
   },
   "file_extension": ".py",
   "mimetype": "text/x-python",
   "name": "python",
   "nbconvert_exporter": "python",
   "pygments_lexer": "ipython3",
   "version": "3.7.4"
  }
 },
 "nbformat": 4,
 "nbformat_minor": 2
}

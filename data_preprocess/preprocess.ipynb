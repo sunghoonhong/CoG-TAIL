{
 "cells": [
  {
   "cell_type": "code",
   "execution_count": 6,
   "metadata": {},
   "outputs": [],
   "source": [
    "import pandas as pd\n",
    "import numpy as np\n",
    "import unicodedata\n",
    "import torch\n",
    "from bs4 import BeautifulSoup\n",
    "from pytorch_transformers import BertTokenizer, BertModel\n",
    "\n",
    "import re\n",
    "\n",
    "df = pd.read_csv('IMDB_Dataset.csv', encoding='utf-8')\n",
    "# df = pd.read_csv('test.csv', encoding='utf-8')\n",
    "# 시험삼아 해보세용.."
   ]
  },
  {
   "cell_type": "code",
   "execution_count": null,
   "metadata": {},
   "outputs": [],
   "source": [
    "# Sentiment 1, 0으로 바꾸기\n",
    "df['sentiment'] = (df['sentiment'] == 'positive').astype(int)"
   ]
  },
  {
   "cell_type": "code",
   "execution_count": null,
   "metadata": {},
   "outputs": [],
   "source": [
    "# 문장 단위로 쪼개기\n",
    "df_reviews = df.review.str.split('(?<!\\w\\.\\w.)(?<![A-Z][a-z]\\.)(?<=\\.|\\?)\\s', expand=True)\n",
    "df_reviews = df_reviews.stack().reset_index(level=1, drop=True).to_frame('review_single')\n",
    "df_pre = df[[\"sentiment\"]].merge(df_reviews, left_index=True, right_index=True, how='left')\n",
    "df_reviews = df_pre.values"
   ]
  },
  {
   "cell_type": "code",
   "execution_count": null,
   "metadata": {},
   "outputs": [],
   "source": [
    "MAX = 0\n",
    "MAXS = ''\n",
    "for df_review in df_reviews:\n",
    "    if MAX < len(df_review[1]):\n",
    "        MAXS = df_review[1]"
   ]
  },
  {
   "cell_type": "code",
   "execution_count": null,
   "metadata": {},
   "outputs": [],
   "source": [
    "tokenizer = BertTokenizer.from_pretrained('bert-base-uncased')\n",
    "model = BertModel.from_pretrained('bert-base-uncased')\n",
    "model.eval()"
   ]
  },
  {
   "cell_type": "code",
   "execution_count": null,
   "metadata": {},
   "outputs": [],
   "source": [
    "# 전처리\n",
    "def unicodeToAscii(s):\n",
    "    return ''.join(\n",
    "        c for c in unicodedata.normalize('NFD', s)\n",
    "        if unicodedata.category(c) != 'Mn'\n",
    "    )\n",
    "\n",
    "def clean_review(raw_review: str) -> str:\n",
    "    # 1. unicode to ASCII\n",
    "    raw_review = unicodeToAscii(raw_review)\n",
    "    \n",
    "    # 2. Remove HTML\n",
    "    review_text = BeautifulSoup(raw_review, \"lxml\").get_text()\n",
    "    \n",
    "    return review_text\n",
    "\n",
    "def preprocess(review: str, total: int, show_progress: bool = True) -> list:\n",
    "    if show_progress:\n",
    "        global counter\n",
    "        counter += 1\n",
    "        print('Processing... %6i/%6i'% (counter, total), end='\\r')\n",
    "    # 1. Clean text\n",
    "    review = clean_review(review)\n",
    "        \n",
    "    # 2. BERT\n",
    "    token_ids = torch.tensor([tokenizer.encode(review, add_special_tokens=True)])\n",
    "    all_hiddens = []\n",
    "        \n",
    "    # 길이가 길면 그 문장을 넘어감.\n",
    "    if len(token_ids[0, :]) >= 512:\n",
    "        return all_hiddens\n",
    "    \n",
    "    for i in range(len(token_ids[0, :]) - 1):\n",
    "        temp_ids = torch.cat([token_ids[0, :i+1],token_ids[0, -1:]], dim = 0)\n",
    "        action = token_ids[0, i+1]\n",
    "        \n",
    "        \n",
    "        temp_ids = temp_ids.view(1, len(temp_ids))\n",
    "        segments_ids = torch.tensor([1] * len(temp_ids))\n",
    "                \n",
    "        with torch.no_grad():\n",
    "            hidden = model(temp_ids)[0][0][-1]\n",
    "            action = model.embeddings(torch.tensor([[action]]))[0][0]\n",
    "                        \n",
    "        all_hiddens.append([hidden, action])\n",
    "    return all_hiddens"
   ]
  },
  {
   "cell_type": "code",
   "execution_count": null,
   "metadata": {},
   "outputs": [],
   "source": [
    "counter = 0\n",
    "\n",
    "states = []\n",
    "actions = []\n",
    "codes = []\n",
    "\n",
    "batch_size = 512\n",
    "num = 1\n",
    "\n",
    "df_length = len(df_reviews)\n",
    "for df_review in df_reviews:\n",
    "    parts = preprocess(df_review[1], df_length)\n",
    "    for part in parts:\n",
    "        states.append(part[0])\n",
    "        actions.append(part[1])\n",
    "        codes.append(torch.tensor([df_review[0]]))\n",
    "        \n",
    "    while len(states) > batch_size:\n",
    "        np.savez('IMDB_Dataset'+str(num)+'.npz',\n",
    "                 states = torch.stack(states[:batch_size]),\n",
    "                 actions = torch.stack(actions[:batch_size]),\n",
    "                 codes = torch.stack(codes[:batch_size]))\n",
    "        states = states[batch_size:]\n",
    "        actions = actions[batch_size:]\n",
    "        codes = codes[batch_size:]\n",
    "        num += 1\n",
    "\n",
    "states = torch.stack(states)\n",
    "actions = torch.stack(actions)\n",
    "codes = torch.stack(codes)"
   ]
  },
  {
   "cell_type": "code",
   "execution_count": null,
   "metadata": {},
   "outputs": [],
   "source": [
    "actions.shape"
   ]
  },
  {
   "cell_type": "code",
   "execution_count": null,
   "metadata": {},
   "outputs": [],
   "source": [
    "states.shape"
   ]
  },
  {
   "cell_type": "code",
   "execution_count": null,
   "metadata": {},
   "outputs": [],
   "source": [
    "codes.shape"
   ]
  },
  {
   "cell_type": "code",
   "execution_count": null,
   "metadata": {},
   "outputs": [],
   "source": [
    "np.savez('IMDB_Dataset.npz', states = states, actions = actions, codes = codes)"
   ]
  },
  {
   "cell_type": "code",
   "execution_count": 10,
   "metadata": {},
   "outputs": [],
   "source": [
    "data = np.load('IMDB_Dataset5115.npz')"
   ]
  },
  {
   "cell_type": "code",
   "execution_count": 11,
   "metadata": {},
   "outputs": [
    {
     "data": {
      "text/plain": [
       "(2675059, 1)"
      ]
     },
     "execution_count": 11,
     "metadata": {},
     "output_type": "execute_result"
    }
   ],
   "source": [
    "data['action_ids'].shape"
   ]
  },
  {
   "cell_type": "code",
   "execution_count": 15,
   "metadata": {},
   "outputs": [
    {
     "ename": "KeyError",
     "evalue": "'action is not a file in the archive'",
     "output_type": "error",
     "traceback": [
      "\u001b[0;31m---------------------------------------------------------------------------\u001b[0m",
      "\u001b[0;31mKeyError\u001b[0m                                  Traceback (most recent call last)",
      "\u001b[0;32m<ipython-input-15-f31e54f88ed4>\u001b[0m in \u001b[0;36m<module>\u001b[0;34m\u001b[0m\n\u001b[0;32m----> 1\u001b[0;31m \u001b[0mdata\u001b[0m\u001b[0;34m[\u001b[0m\u001b[0;34m'action'\u001b[0m\u001b[0;34m]\u001b[0m\u001b[0;34m.\u001b[0m\u001b[0mshape\u001b[0m\u001b[0;34m\u001b[0m\u001b[0;34m\u001b[0m\u001b[0m\n\u001b[0m",
      "\u001b[0;32m/usr/local/lib/python3.7/site-packages/numpy/lib/npyio.py\u001b[0m in \u001b[0;36m__getitem__\u001b[0;34m(self, key)\u001b[0m\n\u001b[1;32m    264\u001b[0m                 \u001b[0;32mreturn\u001b[0m \u001b[0mself\u001b[0m\u001b[0;34m.\u001b[0m\u001b[0mzip\u001b[0m\u001b[0;34m.\u001b[0m\u001b[0mread\u001b[0m\u001b[0;34m(\u001b[0m\u001b[0mkey\u001b[0m\u001b[0;34m)\u001b[0m\u001b[0;34m\u001b[0m\u001b[0;34m\u001b[0m\u001b[0m\n\u001b[1;32m    265\u001b[0m         \u001b[0;32melse\u001b[0m\u001b[0;34m:\u001b[0m\u001b[0;34m\u001b[0m\u001b[0;34m\u001b[0m\u001b[0m\n\u001b[0;32m--> 266\u001b[0;31m             \u001b[0;32mraise\u001b[0m \u001b[0mKeyError\u001b[0m\u001b[0;34m(\u001b[0m\u001b[0;34m\"%s is not a file in the archive\"\u001b[0m \u001b[0;34m%\u001b[0m \u001b[0mkey\u001b[0m\u001b[0;34m)\u001b[0m\u001b[0;34m\u001b[0m\u001b[0;34m\u001b[0m\u001b[0m\n\u001b[0m\u001b[1;32m    267\u001b[0m \u001b[0;34m\u001b[0m\u001b[0m\n\u001b[1;32m    268\u001b[0m \u001b[0;34m\u001b[0m\u001b[0m\n",
      "\u001b[0;31mKeyError\u001b[0m: 'action is not a file in the archive'"
     ]
    }
   ],
   "source": [
    "data['action'].shape"
   ]
  },
  {
   "cell_type": "code",
   "execution_count": null,
   "metadata": {},
   "outputs": [],
   "source": []
  }
 ],
 "metadata": {
  "kernelspec": {
   "display_name": "Python 3",
   "language": "python",
   "name": "python3"
  },
  "language_info": {
   "codemirror_mode": {
    "name": "ipython",
    "version": 3
   },
   "file_extension": ".py",
   "mimetype": "text/x-python",
   "name": "python",
   "nbconvert_exporter": "python",
   "pygments_lexer": "ipython3",
   "version": "3.7.4"
  },
  "pycharm": {
   "stem_cell": {
    "cell_type": "raw",
    "metadata": {
     "collapsed": false
    },
    "source": []
   }
  }
 },
 "nbformat": 4,
 "nbformat_minor": 2
}

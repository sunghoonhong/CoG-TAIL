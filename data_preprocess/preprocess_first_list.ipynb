{
 "cells": [
  {
   "cell_type": "code",
   "execution_count": 0,
   "metadata": {
    "colab": {},
    "colab_type": "code",
    "id": "Ozj8ZdU3xC4F"
   },
   "outputs": [],
   "source": [
    "from google.colab import auth\n",
    "auth.authenticate_user()\n",
    "\n",
    "from google.colab import drive\n",
    "drive.mount('/content/gdrive')\n",
    "\n",
    "!pip install pytorch_transformers"
   ]
  },
  {
   "cell_type": "code",
   "execution_count": 0,
   "metadata": {
    "colab": {},
    "colab_type": "code",
    "id": "Z5ELz6xPxBgf"
   },
   "outputs": [],
   "source": [
    "import pandas as pd\n",
    "import numpy as np\n",
    "import unicodedata\n",
    "import torch\n",
    "\n",
    "from pytorch_transformers import BertTokenizer, BertModel"
   ]
  },
  {
   "cell_type": "code",
   "execution_count": 0,
   "metadata": {
    "colab": {},
    "colab_type": "code",
    "id": "yfgR0RrTYf3b"
   },
   "outputs": [],
   "source": [
    "import pickle\n",
    "import gzip\n",
    "\n",
    "with gzip.open('/content/gdrive/My Drive/pre_reviews.pickle', 'rb') as f:\n",
    "    pre_reviews = pickle.load(f)"
   ]
  },
  {
   "cell_type": "code",
   "execution_count": 0,
   "metadata": {
    "colab": {},
    "colab_type": "code",
    "id": "Yvyb2hKHxBgo"
   },
   "outputs": [],
   "source": [
    "tokenizer = BertTokenizer.from_pretrained('bert-base-uncased')"
   ]
  },
  {
   "cell_type": "code",
   "execution_count": 0,
   "metadata": {
    "colab": {},
    "colab_type": "code",
    "id": "Zcrn2wHRxqV1"
   },
   "outputs": [],
   "source": [
    "import pickle\n",
    "import gzip\n",
    "\n",
    "with gzip.open('/content/gdrive/My Drive/Top5000_BtoA.pickle','rb') as f:\n",
    "    Top5000_BtoA = pickle.load(f)"
   ]
  },
  {
   "cell_type": "code",
   "execution_count": 0,
   "metadata": {
    "colab": {},
    "colab_type": "code",
    "id": "44Qkj5jBxBgq"
   },
   "outputs": [],
   "source": [
    "# BERT\n",
    "def preprocess(review: str, total: int, show_progress: bool = True) -> list:\n",
    "    if show_progress:\n",
    "        global counter\n",
    "        counter += 1\n",
    "        if counter % 10000 == 0:\n",
    "          print('Processing... %6i/%6i'% (counter, total))\n",
    "        \n",
    "    token_ids = tokenizer.encode(review, add_special_tokens=True)\n",
    "        \n",
    "    L = len(token_ids)\n",
    "\n",
    "    # 길이가 길면 그 문장을 넘어감.\n",
    "    if L >= 50:\n",
    "        return None\n",
    "    \n",
    "    # TOP5000에 없는 단어가 있는 문장이면 넘어감.\n",
    "    for word in token_ids:\n",
    "        try:\n",
    "            Top5000_BtoA[word]\n",
    "        except:\n",
    "            return None\n",
    "        \n",
    "    return Top5000_BtoA[token_ids[1]]"
   ]
  },
  {
   "cell_type": "code",
   "execution_count": 0,
   "metadata": {
    "colab": {},
    "colab_type": "code",
    "id": "bvnAX73SxBgv"
   },
   "outputs": [],
   "source": [
    "counter = 0\n",
    "\n",
    "first_pos = {}\n",
    "first_neg = {}\n",
    "\n",
    "length = len(pre_reviews)\n",
    "for pre_review in pre_reviews:\n",
    "  x = preprocess(pre_review[0], length)\n",
    "  if x == None:\n",
    "    continue\n",
    "  try:\n",
    "    if(pre_review[1]):\n",
    "      first_pos[x] += 1\n",
    "    else:\n",
    "      first_neg[x] += 1\n",
    "  except:\n",
    "    if(pre_review[1]):\n",
    "      first_pos[x] = 1\n",
    "    else:\n",
    "      first_neg[x] = 1"
   ]
  },
  {
   "cell_type": "code",
   "execution_count": 0,
   "metadata": {
    "colab": {},
    "colab_type": "code",
    "id": "81kZddHCGRUF"
   },
   "outputs": [],
   "source": [
    "with gzip.open('/content/gdrive/My Drive/Top5000_AtoB.pickle','rb') as f:\n",
    "    Top5000_AtoB = pickle.load(f)"
   ]
  },
  {
   "cell_type": "code",
   "execution_count": 0,
   "metadata": {
    "colab": {},
    "colab_type": "code",
    "id": "4z6SA2_GJRnq"
   },
   "outputs": [],
   "source": [
    "first_pos_list = [(first_pos[key], tokenizer.decode(Top5000_AtoB[key])) for key in first_pos.keys()]\n",
    "first_pos_list.sort(reverse = True)\n",
    "first_neg_list = [(first_neg[key], tokenizer.decode(Top5000_AtoB[key])) for key in first_neg.keys()]\n",
    "first_neg_list.sort(reverse = True)"
   ]
  },
  {
   "cell_type": "code",
   "execution_count": 0,
   "metadata": {
    "colab": {},
    "colab_type": "code",
    "id": "3WfHtEy1xBg4"
   },
   "outputs": [],
   "source": [
    "first_pos_list = []\n",
    "first_neg_list = []\n",
    "acc = 0\n",
    "\n",
    "for key in first_pos.keys():\n",
    "  first_pos_list.append((key, acc))\n",
    "  acc += first_pos[key]\n",
    "\n",
    "first_pos_list.append((-1, acc))\n",
    "\n",
    "acc = 0\n",
    "\n",
    "for key in first_neg.keys():\n",
    "  first_neg_list.append((key, acc))\n",
    "  acc += first_neg[key]\n",
    "\n",
    "first_neg_list.append((-1, acc))\n",
    "\n",
    "import random\n",
    "\n",
    "def random_number(first_list):\n",
    "  r = random.randrange(first_list[-1][1])\n",
    "  for i in range(len(first_list)):\n",
    "    if(first_list[i][1] <= r and r < first_list[i+1][1]):\n",
    "      return first_list[i][0]"
   ]
  },
  {
   "cell_type": "code",
   "execution_count": 0,
   "metadata": {
    "colab": {},
    "colab_type": "code",
    "id": "_TrhyuJ_Oq2U"
   },
   "outputs": [],
   "source": [
    "with gzip.open('/content/gdrive/My Drive/Top5000_first_neg.pickle', 'wb') as f:\n",
    "    pickle.dump(first_neg_list, f)\n",
    "\n",
    "with gzip.open('/content/gdrive/My Drive/Top5000_first_pos.pickle', 'wb') as f:\n",
    "    pickle.dump(first_pos_list, f)"
   ]
  },
  {
   "cell_type": "code",
   "execution_count": 0,
   "metadata": {
    "colab": {},
    "colab_type": "code",
    "id": "R_R-6vtRQIX9"
   },
   "outputs": [],
   "source": [
    "import pickle\n",
    "import gzip\n",
    "\n",
    "\n",
    "with gzip.open('/content/gdrive/My Drive/Top5000_first.pickle','rb') as f:\n",
    "    first_list = pickle.load(f)\n",
    "    \n",
    "with gzip.open('/content/gdrive/My Drive/Top5000_AtoB.pickle','rb') as f:\n",
    "    AtoB = pickle.load(f)\n"
   ]
  },
  {
   "cell_type": "code",
   "execution_count": 0,
   "metadata": {
    "colab": {},
    "colab_type": "code",
    "id": "tQuYUpzhhMGm"
   },
   "outputs": [],
   "source": [
    "real_first_list = []\n",
    "for i in range(2889):\n",
    "  x = first_list[i+1][1] - first_list[i][1]\n",
    "  y = first_list[i][0]\n",
    "  real_first_list.append((x, tokenizer.decode(AtoB[y])))"
   ]
  }
 ],
 "metadata": {
  "accelerator": "GPU",
  "colab": {
   "collapsed_sections": [],
   "name": "preprocess_first_list",
   "provenance": []
  },
  "kernelspec": {
   "display_name": "Python 3",
   "language": "python",
   "name": "python3"
  },
  "language_info": {
   "codemirror_mode": {
    "name": "ipython",
    "version": 3
   },
   "file_extension": ".py",
   "mimetype": "text/x-python",
   "name": "python",
   "nbconvert_exporter": "python",
   "pygments_lexer": "ipython3",
   "version": "3.7.4"
  },
  "pycharm": {
   "stem_cell": {
    "cell_type": "raw",
    "metadata": {
     "collapsed": false
    },
    "source": []
   }
  }
 },
 "nbformat": 4,
 "nbformat_minor": 1
}

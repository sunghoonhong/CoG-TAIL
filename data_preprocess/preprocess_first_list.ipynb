{
 "cells": [
  {
   "cell_type": "code",
   "execution_count": null,
   "metadata": {},
   "outputs": [],
   "source": [
    "import pandas as pd\n",
    "import numpy as np\n",
    "import unicodedata\n",
    "import torch\n",
    "from bs4 import BeautifulSoup\n",
    "from pytorch_transformers import BertTokenizer, BertModel\n",
    "\n",
    "import re\n",
    "\n",
    "df = pd.read_csv('IMDB_Dataset.csv', encoding='utf-8')\n",
    "# df = pd.read_csv('test.csv', encoding='utf-8')\n",
    "# 시험삼아 해보세용.."
   ]
  },
  {
   "cell_type": "code",
   "execution_count": null,
   "metadata": {},
   "outputs": [],
   "source": [
    "# Sentiment 1, 0으로 바꾸기\n",
    "df['sentiment'] = (df['sentiment'] == 'positive').astype(int)"
   ]
  },
  {
   "cell_type": "code",
   "execution_count": null,
   "metadata": {},
   "outputs": [],
   "source": [
    "# 문장 단위로 쪼개기\n",
    "df_reviews = df.review.str.split('(?<!\\w\\.\\w.)(?<![A-Z][a-z]\\.)(?<=\\.|\\?)\\s', expand=True)\n",
    "df_reviews = df_reviews.stack().reset_index(level=1, drop=True).to_frame('review_single')\n",
    "df_pre = df[[\"sentiment\"]].merge(df_reviews, left_index=True, right_index=True, how='left')\n",
    "df_reviews = df_pre.values"
   ]
  },
  {
   "cell_type": "code",
   "execution_count": null,
   "metadata": {},
   "outputs": [],
   "source": [
    "tokenizer = BertTokenizer.from_pretrained('bert-base-uncased')"
   ]
  },
  {
   "cell_type": "code",
   "execution_count": null,
   "metadata": {},
   "outputs": [],
   "source": [
    "import pickle\n",
    "import gzip\n",
    "\n",
    "with gzip.open('Top5000_BtoA.pickle','rb') as f:\n",
    "    Top5000_BtoA = pickle.load(f)"
   ]
  },
  {
   "cell_type": "code",
   "execution_count": null,
   "metadata": {},
   "outputs": [],
   "source": [
    "# 전처리\n",
    "def unicodeToAscii(s):\n",
    "    return ''.join(\n",
    "        c for c in unicodedata.normalize('NFD', s)\n",
    "        if unicodedata.category(c) != 'Mn'\n",
    "    )\n",
    "\n",
    "def clean_review(raw_review: str) -> str:\n",
    "    # 1. unicode to ASCII\n",
    "    raw_review = unicodeToAscii(raw_review)\n",
    "    \n",
    "    # 2. Remove HTML\n",
    "    review_text = BeautifulSoup(raw_review, \"lxml\").get_text()\n",
    "    \n",
    "    return review_text\n",
    "\n",
    "\n",
    "def preprocess(review: str, total: int, show_progress: bool = True) -> list:\n",
    "    if show_progress:\n",
    "        global counter\n",
    "        counter += 1\n",
    "        if counter % 10000 == 0:\n",
    "            print('Processing... %6i/%6i'% (counter, total))\n",
    "          \n",
    "    # 1. Clean text\n",
    "    review = clean_review(review)\n",
    "        \n",
    "    # 2. BERT\n",
    "    token_ids = [tokenizer.encode(review, add_special_tokens=True)]\n",
    "    \n",
    "    L = len(token_ids[0])\n",
    "\n",
    "    # 길이가 길면 그 문장을 넘어감.\n",
    "    if L >= 100:\n",
    "        return None\n",
    "    \n",
    "    # TOP5000에 없는 단어가 있는 문장이면 넘어감.\n",
    "    for word in token_ids[0]:\n",
    "        try:\n",
    "            Top5000_BtoA[word]\n",
    "        except:\n",
    "            return None\n",
    "        \n",
    "    return Top5000_BtoA[token_ids[0][1]]"
   ]
  },
  {
   "cell_type": "code",
   "execution_count": null,
   "metadata": {},
   "outputs": [],
   "source": [
    "counter = 0\n",
    "\n",
    "first = {} # 분포\n",
    "\n",
    "cur_size = 0\n",
    "batch_size = 512\n",
    "num = 1\n",
    "\n",
    "df_length = len(df_reviews)\n",
    "for df_review in df_reviews:\n",
    "    x = preprocess(df_review[1], df_length)\n",
    "    if x == None:\n",
    "        continue\n",
    "    try:\n",
    "        first[x] += 1\n",
    "    except:\n",
    "        first[x] = 1"
   ]
  },
  {
   "cell_type": "code",
   "execution_count": null,
   "metadata": {},
   "outputs": [],
   "source": [
    "first_list = [] # 누적분포\n",
    "acc = 0\n",
    "\n",
    "for key in first.keys():\n",
    "    first_list.append((key, acc))\n",
    "    acc += first[key]\n",
    "\n",
    "first_list.append((-1, acc))"
   ]
  },
  {
   "cell_type": "code",
   "execution_count": 3,
   "metadata": {},
   "outputs": [],
   "source": [
    "import pickle\n",
    "import gzip\n",
    "\n",
    "with gzip.open('Top5000_first_list.pickle','rb') as f:\n",
    "    first_list = pickle.load(f)"
   ]
  },
  {
   "cell_type": "code",
   "execution_count": 4,
   "metadata": {},
   "outputs": [],
   "source": [
    "def random_number(first_list):\n",
    "    import random\n",
    "    r = random.randrange(first_list[-1][1])\n",
    "    for i in range(len(first_list)):\n",
    "        if(first_list[i][1] <= r and r < first_list[i+1][1]):\n",
    "            return first_list[i][0]"
   ]
  },
  {
   "cell_type": "code",
   "execution_count": 7,
   "metadata": {},
   "outputs": [
    {
     "data": {
      "text/plain": [
       "89"
      ]
     },
     "execution_count": 7,
     "metadata": {},
     "output_type": "execute_result"
    }
   ],
   "source": [
    "random_number(first_list)"
   ]
  },
  {
   "cell_type": "code",
   "execution_count": null,
   "metadata": {},
   "outputs": [],
   "source": []
  }
 ],
 "metadata": {
  "kernelspec": {
   "display_name": "Python 3",
   "language": "python",
   "name": "python3"
  },
  "language_info": {
   "codemirror_mode": {
    "name": "ipython",
    "version": 3
   },
   "file_extension": ".py",
   "mimetype": "text/x-python",
   "name": "python",
   "nbconvert_exporter": "python",
   "pygments_lexer": "ipython3",
   "version": "3.7.4"
  },
  "pycharm": {
   "stem_cell": {
    "cell_type": "raw",
    "metadata": {
     "collapsed": false
    },
    "source": []
   }
  }
 },
 "nbformat": 4,
 "nbformat_minor": 2
}

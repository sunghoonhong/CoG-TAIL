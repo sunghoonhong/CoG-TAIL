{
 "cells": [
  {
   "cell_type": "code",
   "execution_count": null,
   "metadata": {},
   "outputs": [],
   "source": [
    "from google.colab import auth\n",
    "auth.authenticate_user()\n",
    "\n",
    "from google.colab import drive\n",
    "drive.mount('/content/gdrive')\n",
    "\n",
    "!pip install pytorch_transformers"
   ]
  },
  {
   "cell_type": "code",
   "execution_count": null,
   "metadata": {},
   "outputs": [],
   "source": [
    "import pandas as pd\n",
    "import numpy as np\n",
    "import unicodedata\n",
    "import torch\n",
    "from bs4 import BeautifulSoup\n",
    "from pytorch_transformers import BertTokenizer, BertModel\n",
    "\n",
    "import re\n",
    "\n",
    "df = pd.read_csv('/content/gdrive/My Drive/IMDB_Dataset.csv', encoding='utf-8')\n",
    "# df = pd.read_csv('test.csv', encoding='utf-8')\n",
    "# 시험삼아 해보세용.."
   ]
  },
  {
   "cell_type": "code",
   "execution_count": null,
   "metadata": {},
   "outputs": [],
   "source": [
    "# Sentiment 1, 0으로 바꾸기\n",
    "df['sentiment'] = (df['sentiment'] == 'positive').astype(int)"
   ]
  },
  {
   "cell_type": "code",
   "execution_count": null,
   "metadata": {},
   "outputs": [],
   "source": [
    "# 문장 단위로 쪼개기\n",
    "df_reviews = df.review.str.split('(?<!\\w\\.\\w.)(?<![A-Z][a-z]\\.)(?<=\\.|\\?)\\s', expand=True)\n",
    "df_reviews = df_reviews.stack().reset_index(level=1, drop=True).to_frame('review_single')\n",
    "df_pre = df[[\"sentiment\"]].merge(df_reviews, left_index=True, right_index=True, how='left')\n",
    "df_reviews = df_pre.values"
   ]
  },
  {
   "cell_type": "code",
   "execution_count": null,
   "metadata": {},
   "outputs": [],
   "source": [
    "tokenizer = BertTokenizer.from_pretrained('bert-base-uncased')\n",
    "model = BertModel.from_pretrained('bert-base-uncased')\n",
    "model = model.to('cuda')\n",
    "model.eval()"
   ]
  },
  {
   "cell_type": "code",
   "execution_count": null,
   "metadata": {},
   "outputs": [],
   "source": [
    "import pickle\n",
    "import gzip\n",
    "\n",
    "with gzip.open('/content/gdrive/My Drive/Top5000_BtoA.pickle','rb') as f:\n",
    "    Top5000_BtoA = pickle.load(f)"
   ]
  },
  {
   "cell_type": "code",
   "execution_count": null,
   "metadata": {},
   "outputs": [],
   "source": [
    "# 전처리\n",
    "def unicodeToAscii(s):\n",
    "    return ''.join(\n",
    "        c for c in unicodedata.normalize('NFD', s)\n",
    "        if unicodedata.category(c) != 'Mn'\n",
    "    )\n",
    "\n",
    "def clean_review(raw_review: str) -> str:\n",
    "    # 1. unicode to ASCII\n",
    "    raw_review = unicodeToAscii(raw_review)\n",
    "    \n",
    "    # 2. Remove HTML\n",
    "    review_text = BeautifulSoup(raw_review, \"lxml\").get_text()\n",
    "    \n",
    "    return review_text\n",
    "\n",
    "def preprocess(review: str, total: int, show_progress: bool = True) -> list:\n",
    "    if show_progress:\n",
    "        global counter\n",
    "        counter += 1\n",
    "        if counter % 10000 == 0:\n",
    "          print('Processing... %6i/%6i'% (counter, total))\n",
    "          \n",
    "    # 1. Clean text\n",
    "    review = clean_review(review)\n",
    "        \n",
    "    # 2. BERT\n",
    "    token_ids = [tokenizer.encode(review, add_special_tokens=True)]\n",
    "    \n",
    "    L = len(token_ids[0])\n",
    "\n",
    "    # 길이가 길면 그 문장을 넘어감.\n",
    "    if L >= 100:\n",
    "        return None\n",
    "    \n",
    "    # TOP5000에 없는 단어가 있는 문장이면 넘어감.\n",
    "    for word in token_ids[0]:\n",
    "        try:\n",
    "            Top5000_BtoA[word]\n",
    "        except:\n",
    "            return None\n",
    "    \n",
    "    action_ids = torch.tensor([Top5000_BtoA[x] for x in token_ids[0]])\n",
    "    token_ids = torch.tensor(token_ids)\n",
    "\n",
    "    toks = torch.zeros((L - 1, L))\n",
    "    mask = torch.zeros((L - 1, L))\n",
    "    actions = token_ids[0, 1:L].view(L - 1, 1)\n",
    "    #action_ids = token_ids[0, 1:L].view(L - 1, 1)\n",
    "        \n",
    "    for i in range(L - 1):\n",
    "        temp_ids = torch.cat([token_ids[0, :i+1],token_ids[0, -1:]], dim = 0)\n",
    "           \n",
    "        #temp_ids = temp_ids.view(1, len(temp_ids))\n",
    "        #segments_ids = torch.tensor([1] * len(temp_ids))\n",
    "        toks[i, :i+2] = temp_ids\n",
    "        mask[i, :i+2] = 1.\n",
    "        \n",
    "    with torch.no_grad():\n",
    "        hidden = model(toks.long().to('cuda'),mask.long().to('cuda'))[0][:, -2]\n",
    "        action = model.embeddings(actions.to('cuda'))[:, 0]\n",
    "        \n",
    "    return hidden, action, action_ids"
   ]
  },
  {
   "cell_type": "code",
   "execution_count": null,
   "metadata": {},
   "outputs": [],
   "source": [
    "counter = 0\n",
    "\n",
    "states = []\n",
    "actions = []\n",
    "codes = []\n",
    "action_ids = []\n",
    "\n",
    "cur_size = 0\n",
    "batch_size = 512\n",
    "num = 1\n",
    "\n",
    "df_length = len(df_reviews)\n",
    "for df_review in df_reviews:\n",
    "    parts = preprocess(df_review[1], df_length)\n",
    "      \n",
    "    if parts == None:\n",
    "        continue\n",
    "      \n",
    "    states.append(parts[0])\n",
    "    actions.append(parts[1])\n",
    "    action_ids.append(parts[2])\n",
    "    codes.append(torch.full((len(parts[0]), 1), df_review[0]).long())\n",
    "    \n",
    "    cur_size += len(parts[0])\n",
    "        \n",
    "    if cur_size >= batch_size:\n",
    "        np.savez_compressed('/content/gdrive/My Drive/batch/IMDB_Dataset'+str(num),\n",
    "                            states = torch.cat(states, dim=0).to('cpu'),\n",
    "                            actions = torch.cat(actions, dim=0).to('cpu'),\n",
    "                            codes = torch.cat(codes, dim=0).to('cpu'),\n",
    "                           action_ids = torch.cat(action_ids, dim=0).to('cpu'))\n",
    "        states = []\n",
    "        actions = []\n",
    "        codes = []\n",
    "        cur_size = 0\n",
    "        num += 1"
   ]
  },
  {
   "cell_type": "code",
   "execution_count": null,
   "metadata": {},
   "outputs": [],
   "source": [
    "actions.shape"
   ]
  },
  {
   "cell_type": "code",
   "execution_count": null,
   "metadata": {},
   "outputs": [],
   "source": [
    "states.shape"
   ]
  },
  {
   "cell_type": "code",
   "execution_count": null,
   "metadata": {},
   "outputs": [],
   "source": [
    "codes.shape"
   ]
  },
  {
   "cell_type": "code",
   "execution_count": null,
   "metadata": {},
   "outputs": [],
   "source": [
    "np.savez('IMDB_Dataset.npz', states = states, actions = actions, codes = codes)"
   ]
  }
 ],
 "metadata": {
  "kernelspec": {
   "display_name": "Python 3",
   "language": "python",
   "name": "python3"
  },
  "language_info": {
   "codemirror_mode": {
    "name": "ipython",
    "version": 3
   },
   "file_extension": ".py",
   "mimetype": "text/x-python",
   "name": "python",
   "nbconvert_exporter": "python",
   "pygments_lexer": "ipython3",
   "version": "3.7.4"
  },
  "pycharm": {
   "stem_cell": {
    "cell_type": "raw",
    "metadata": {
     "collapsed": false
    },
    "source": []
   }
  }
 },
 "nbformat": 4,
 "nbformat_minor": 2
}

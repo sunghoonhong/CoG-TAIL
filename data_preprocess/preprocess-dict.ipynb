{
 "cells": [
  {
   "cell_type": "code",
   "execution_count": null,
   "metadata": {},
   "outputs": [],
   "source": [
    "import pandas as pd\n",
    "import numpy as np\n",
    "import unicodedata\n",
    "import torch\n",
    "from bs4 import BeautifulSoup\n",
    "from pytorch_transformers import BertTokenizer, BertModel\n",
    "\n",
    "import re\n",
    "\n",
    "df = pd.read_csv('IMDB_Dataset.csv', encoding='utf-8')\n",
    "# df = pd.read_csv('test.csv', encoding='utf-8')\n",
    "# 시험삼아 해보세용.."
   ]
  },
  {
   "cell_type": "code",
   "execution_count": null,
   "metadata": {},
   "outputs": [],
   "source": [
    "# Sentiment 1, 0으로 바꾸기\n",
    "df['sentiment'] = (df['sentiment'] == 'positive').astype(int)"
   ]
  },
  {
   "cell_type": "code",
   "execution_count": null,
   "metadata": {},
   "outputs": [],
   "source": [
    "# 문장 단위로 쪼개기\n",
    "df_reviews = df.review.str.split('(?<!\\w\\.\\w.)(?<![A-Z][a-z]\\.)(?<=\\.|\\?)\\s', expand=True)\n",
    "df_reviews = df_reviews.stack().reset_index(level=1, drop=True).to_frame('review_single')\n",
    "df_pre = df[[\"sentiment\"]].merge(df_reviews, left_index=True, right_index=True, how='left')\n",
    "df_reviews = df_pre.values"
   ]
  },
  {
   "cell_type": "code",
   "execution_count": null,
   "metadata": {},
   "outputs": [],
   "source": [
    "tokenizer = BertTokenizer.from_pretrained('bert-base-uncased')"
   ]
  },
  {
   "cell_type": "code",
   "execution_count": null,
   "metadata": {},
   "outputs": [],
   "source": [
    "# 전처리\n",
    "def unicodeToAscii(s):\n",
    "    return ''.join(\n",
    "        c for c in unicodedata.normalize('NFD', s)\n",
    "        if unicodedata.category(c) != 'Mn'\n",
    "    )\n",
    "\n",
    "def clean_review(raw_review: str) -> str:\n",
    "    # 1. unicode to ASCII\n",
    "    raw_review = unicodeToAscii(raw_review)\n",
    "    \n",
    "    # 2. Remove HTML\n",
    "    review_text = BeautifulSoup(raw_review, \"lxml\").get_text()\n",
    "    \n",
    "    return review_text\n",
    "\n",
    "def preprocess(review: str, total: int, show_progress: bool = True) -> list:\n",
    "    if show_progress:\n",
    "        global counter\n",
    "        counter += 1\n",
    "        if counter % 10000 == 0:\n",
    "            print('Processing... %6i/%6i'% (counter, total), end='\\r')\n",
    "    # 1. Clean text\n",
    "    review = clean_review(review)\n",
    "    print(review)\n",
    "        \n",
    "    # 2. BERT\n",
    "    token_ids = tokenizer.encode(review, add_special_tokens=True)\n",
    "    print(tokenizer.decode(tokenizer.encode(review, add_special_tokens=True)))\n",
    "    \n",
    "    for token_id in token_ids:\n",
    "        try:\n",
    "            dictionary[token_id] += 1\n",
    "        except:\n",
    "            dictionary[token_id] = 1\n",
    "    return"
   ]
  },
  {
   "cell_type": "code",
   "execution_count": null,
   "metadata": {
    "scrolled": false
   },
   "outputs": [],
   "source": [
    "counter = 0\n",
    "count = 0\n",
    "\n",
    "dictionary = {}\n",
    "\n",
    "batch_size = 512\n",
    "num = 1\n",
    "\n",
    "df_length = len(df_reviews)\n",
    "for df_review in df_reviews:\n",
    "    preprocess(df_review[1], df_length)"
   ]
  },
  {
   "cell_type": "code",
   "execution_count": null,
   "metadata": {},
   "outputs": [],
   "source": [
    "dict_df = pd.DataFrame(dictionary,index=[0]).T"
   ]
  },
  {
   "cell_type": "code",
   "execution_count": null,
   "metadata": {},
   "outputs": [],
   "source": [
    "x = [(dictionary[i], i) for i in dictionary.keys()]\n",
    "\n",
    "Top5000 = [x[i][1] for i in range(5000)]\n",
    "Top5000_dist = {x[i][1] : x[i][0] for i in range(5000)}\n",
    "Top5000_BtoA = {Top5000[i] : i for i in range(5000)}\n",
    "Top5000_AtoB = {i : Top5000[i] for i in range(5000)}"
   ]
  },
  {
   "cell_type": "code",
   "execution_count": null,
   "metadata": {},
   "outputs": [],
   "source": [
    "import pickle\n",
    "import gzip\n",
    "\n",
    "with gzip.open('Top5000_dist.pickle', 'wb') as f:\n",
    "    pickle.dump(Top5000_dist, f)\n",
    "\n",
    "with gzip.open('testPickleFile.pickle','rb') as f:\n",
    "    data = pickle.load(f)"
   ]
  },
  {
   "cell_type": "code",
   "execution_count": null,
   "metadata": {},
   "outputs": [],
   "source": []
  }
 ],
 "metadata": {
  "kernelspec": {
   "display_name": "Python 3",
   "language": "python",
   "name": "python3"
  },
  "language_info": {
   "codemirror_mode": {
    "name": "ipython",
    "version": 3
   },
   "file_extension": ".py",
   "mimetype": "text/x-python",
   "name": "python",
   "nbconvert_exporter": "python",
   "pygments_lexer": "ipython3",
   "version": "3.7.4"
  },
  "pycharm": {
   "stem_cell": {
    "cell_type": "raw",
    "metadata": {
     "collapsed": false
    },
    "source": []
   }
  }
 },
 "nbformat": 4,
 "nbformat_minor": 2
}

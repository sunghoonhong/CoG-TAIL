{
 "cells": [
  {
   "cell_type": "code",
   "execution_count": 1,
   "metadata": {},
   "outputs": [],
   "source": [
    "import pandas as pd\n",
    "import numpy as np\n",
    "import unicodedata\n",
    "import torch\n",
    "from bs4 import BeautifulSoup\n",
    "from pytorch_transformers import BertTokenizer, BertModel\n",
    "\n",
    "import re\n",
    "\n",
    "df = pd.read_csv('IMDB_Dataset.csv', encoding='utf-8')\n",
    "df = df.loc[:25]\n",
    "# 시험삼아 해보세용.."
   ]
  },
  {
   "cell_type": "code",
   "execution_count": 2,
   "metadata": {},
   "outputs": [],
   "source": [
    "# Sentiment 1, 0으로 바꾸기\n",
    "df['sentiment'] = (df['sentiment'] == 'positive').astype(int)"
   ]
  },
  {
   "cell_type": "code",
   "execution_count": 3,
   "metadata": {},
   "outputs": [],
   "source": [
    "# 문장 단위로 쪼개기\n",
    "df_reviews = df.review.str.split('(?<!\\w\\.\\w.)(?<![A-Z][a-z]\\.)(?<=\\.|\\?)\\s', expand=True)\n",
    "df_reviews = df_reviews.stack().reset_index(level=1, drop=True).to_frame('review_single')\n",
    "df_pre = df[[\"sentiment\"]].merge(df_reviews, left_index=True, right_index=True, how='left')\n",
    "df_reviews = df_pre.values"
   ]
  },
  {
   "cell_type": "code",
   "execution_count": 4,
   "metadata": {},
   "outputs": [],
   "source": [
    "MAX = 0\n",
    "MAXS = ''\n",
    "for df_review in df_reviews:\n",
    "    if MAX < len(df_review[1]):\n",
    "        MAXS = df_review[1]"
   ]
  },
  {
   "cell_type": "code",
   "execution_count": 5,
   "metadata": {},
   "outputs": [],
   "source": [
    "tokenizer = BertTokenizer.from_pretrained('bert-base-uncased')\n",
    "model = BertModel.from_pretrained('bert-base-uncased')"
   ]
  },
  {
   "cell_type": "code",
   "execution_count": 6,
   "metadata": {},
   "outputs": [],
   "source": [
    "# 전처리\n",
    "def unicodeToAscii(s):\n",
    "    return ''.join(\n",
    "        c for c in unicodedata.normalize('NFD', s)\n",
    "        if unicodedata.category(c) != 'Mn'\n",
    "    )\n",
    "\n",
    "def clean_review(raw_review: str) -> str:\n",
    "    # 1. unicode to ASCII\n",
    "    raw_review = unicodeToAscii(raw_review)\n",
    "    \n",
    "    # 2. Remove HTML\n",
    "    review_text = BeautifulSoup(raw_review, \"lxml\").get_text()\n",
    "    \n",
    "    return review_text\n",
    "\n",
    "def preprocess(review: str, total: int, show_progress: bool = True) -> list:\n",
    "    if show_progress:\n",
    "        global counter\n",
    "        counter += 1\n",
    "        print('Processing... %6i/%6i'% (counter, total), end='\\r')\n",
    "    # 1. Clean text\n",
    "    review = clean_review(review)\n",
    "        \n",
    "    # 2. BERT\n",
    "    token_ids = torch.tensor([tokenizer.encode(review, add_special_tokens=True)])\n",
    "    all_hiddens = []\n",
    "    \n",
    "    for i in range(min(len(token_ids[0, :]) - 1,512)):\n",
    "        temp_ids = torch.cat([token_ids[0, :i+1],token_ids[0, -1:]], dim = 0)\n",
    "        action = token_ids[0, i+1]\n",
    "        \n",
    "        temp_ids = temp_ids.view(1, len(temp_ids))\n",
    "        \n",
    "        with torch.no_grad():\n",
    "            hidden = model(temp_ids)[0][0][-1]\n",
    "                \n",
    "        all_hiddens.append([hidden, action])\n",
    "    return all_hiddens"
   ]
  },
  {
   "cell_type": "code",
   "execution_count": 7,
   "metadata": {},
   "outputs": [
    {
     "name": "stdout",
     "output_type": "stream",
     "text": [
      "Processing...    168/   168\r"
     ]
    }
   ],
   "source": [
    "counter = 0\n",
    "\n",
    "states = []\n",
    "actions = []\n",
    "codes = []\n",
    "\n",
    "df_length = len(df_reviews)\n",
    "for df_review in df_reviews:\n",
    "    parts = preprocess(df_review[1], df_length)\n",
    "    for part in parts:\n",
    "        states.append(part[0])\n",
    "        actions.append(torch.tensor([part[1]]))\n",
    "        codes.append(torch.tensor([df_review[0]]))\n",
    "\n",
    "states = torch.stack(states)\n",
    "actions = torch.stack(actions)\n",
    "codes = torch.stack(codes)"
   ]
  },
  {
   "cell_type": "code",
   "execution_count": 8,
   "metadata": {},
   "outputs": [
    {
     "data": {
      "text/plain": [
       "torch.Size([5679, 1])"
      ]
     },
     "execution_count": 8,
     "metadata": {},
     "output_type": "execute_result"
    }
   ],
   "source": [
    "actions.shape"
   ]
  },
  {
   "cell_type": "code",
   "execution_count": 9,
   "metadata": {},
   "outputs": [
    {
     "data": {
      "text/plain": [
       "torch.Size([5679, 768])"
      ]
     },
     "execution_count": 9,
     "metadata": {},
     "output_type": "execute_result"
    }
   ],
   "source": [
    "states.shape"
   ]
  },
  {
   "cell_type": "code",
   "execution_count": 10,
   "metadata": {},
   "outputs": [
    {
     "data": {
      "text/plain": [
       "torch.Size([5679, 1])"
      ]
     },
     "execution_count": 10,
     "metadata": {},
     "output_type": "execute_result"
    }
   ],
   "source": [
    "codes.shape"
   ]
  },
  {
   "cell_type": "code",
   "execution_count": 11,
   "metadata": {},
   "outputs": [],
   "source": [
    "np.savez_compressed('IMDB_Dataset.npz', states = states, actions = actions, codes = codes)"
   ]
  },
  {
   "cell_type": "code",
   "execution_count": null,
   "metadata": {},
   "outputs": [],
   "source": []
  }
 ],
 "metadata": {
  "kernelspec": {
   "display_name": "Python 3",
   "language": "python",
   "name": "python3"
  },
  "language_info": {
   "codemirror_mode": {
    "name": "ipython",
    "version": 3
   },
   "file_extension": ".py",
   "mimetype": "text/x-python",
   "name": "python",
   "nbconvert_exporter": "python",
   "pygments_lexer": "ipython3",
   "version": "3.7.4"
  },
  "pycharm": {
   "stem_cell": {
    "cell_type": "raw",
    "metadata": {
     "collapsed": false
    },
    "source": []
   }
  }
 },
 "nbformat": 4,
 "nbformat_minor": 2
}
